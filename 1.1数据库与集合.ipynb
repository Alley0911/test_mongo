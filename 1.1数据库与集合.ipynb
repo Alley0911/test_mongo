{
 "cells": [
  {
   "cell_type": "markdown",
   "metadata": {
    "toc": true
   },
   "source": [
    "<h1>Table of Contents<span class=\"tocSkip\"></span></h1>\n",
    "<div class=\"toc\"><ul class=\"toc-item\"><li><span><a href=\"#数据库与集合（未完待续。。。）\" data-toc-modified-id=\"数据库与集合（未完待续。。。）-1\">数据库与集合（未完待续。。。）</a></span><ul class=\"toc-item\"><li><span><a href=\"#集合的显示创建\" data-toc-modified-id=\"集合的显示创建-1.1\">集合的显示创建</a></span><ul class=\"toc-item\"><li><span><a href=\"#例子\" data-toc-modified-id=\"例子-1.1.1\">例子</a></span><ul class=\"toc-item\"><li><span><a href=\"#创建capped集合\" data-toc-modified-id=\"创建capped集合-1.1.1.1\">创建capped集合</a></span></li><li><span><a href=\"#创建一个具有文档验证的集合，mongo-shell\" data-toc-modified-id=\"创建一个具有文档验证的集合，mongo-shell-1.1.1.2\">创建一个具有文档验证的集合，mongo shell</a></span></li><li><span><a href=\"#pymongo操作\" data-toc-modified-id=\"pymongo操作-1.1.1.3\">pymongo操作</a></span></li><li><span><a href=\"#指定排序规则（collation）\" data-toc-modified-id=\"指定排序规则（collation）-1.1.1.4\">指定排序规则（collation）</a></span></li><li><span><a href=\"#[指定存储引擎]\" data-toc-modified-id=\"[指定存储引擎]-1.1.1.5\">[指定存储引擎]</a></span></li></ul></li></ul></li><li><span><a href=\"#文档验证\" data-toc-modified-id=\"文档验证-1.2\">文档验证</a></span></li><li><span><a href=\"#uuid\" data-toc-modified-id=\"uuid-1.3\">uuid</a></span></li></ul></li></ul></div>"
   ]
  },
  {
   "cell_type": "markdown",
   "metadata": {},
   "source": [
    "# 数据库与集合（未完待续。。。）"
   ]
  },
  {
   "cell_type": "markdown",
   "metadata": {},
   "source": [
    "MongoDB将数据记录存储为文档（BSON文档），这些文档一起收集在集合中。一个数据库存储一个或多个由文档组成的集合。"
   ]
  },
  {
   "cell_type": "markdown",
   "metadata": {},
   "source": [
    "```\n",
    "use myDB  # 选择一个数据库\n",
    "show collections  # 显示该数据库下的所有集合\n",
    "db.getCollectionInfos() # 查看集合详情\n",
    "```"
   ]
  },
  {
   "cell_type": "markdown",
   "metadata": {},
   "source": [
    "## 集合的显示创建"
   ]
  },
  {
   "cell_type": "markdown",
   "metadata": {},
   "source": [
    "使用[db.createCollection()]显示创建，可设置集合的大小上限、文档验证规则等设置。"
   ]
  },
  {
   "cell_type": "markdown",
   "metadata": {},
   "source": [
    "### 例子"
   ]
  },
  {
   "cell_type": "markdown",
   "metadata": {},
   "source": [
    "#### 创建capped集合\n",
    "log为名字，size是大小（bytes），max是最大的文档数\n",
    "```\n",
    "db.createCollection(\"log\",{ capped:true, size:5242880m，max:5000})```"
   ]
  },
  {
   "cell_type": "markdown",
   "metadata": {},
   "source": [
    "#### 创建一个具有文档验证的集合，mongo shell\n",
    "具有文档验证的集合将每个插入或更新的文档与[validator]选项中指定的条件进行比较。如果文档不符合指定条件，根据validationLevel和validationAction，MongoDB要么返回警告，要么拒绝插入或更新文档。\n",
    "```\n",
    "db.createCollection(\n",
    "\"contacts\",\n",
    "    {\n",
    "    validator:\n",
    "        {\n",
    "        $jsonSchema:\n",
    "            {\n",
    "            bsonType: \"object\",\n",
    "            required: [\"phone\"],\n",
    "            properties:\n",
    "                {\n",
    "                phone:\n",
    "                    {\n",
    "                    bsonType: \"string\",\n",
    "                    description: \"must be a string and is required\"\n",
    "                    },\n",
    "                email:\n",
    "                    {\n",
    "                    bsonType: \"string\",\n",
    "                    pattern: \"@mongodb\\.com$\",\n",
    "                    description: \"must be a string and match the regular expression pattern\"\n",
    "                    },\n",
    "                status: \n",
    "                    {\n",
    "                    enum: [\"unknown\", \"Incomplete\"],\n",
    "                    description: \"can only be one of the enum values\"\n",
    "                    }\n",
    "                }           \n",
    "            }\n",
    "        },\n",
    "    validationAction: \"warn\"\n",
    "    }\n",
    ")\n",
    "```"
   ]
  },
  {
   "cell_type": "markdown",
   "metadata": {},
   "source": [
    "上面创建的集合要想插入文档，文档需满足必须：\n",
    "- 含有phone字段，且value必须为string\n",
    "- email有时必须满足xxx@mongodb.com的格式"
   ]
  },
  {
   "cell_type": "markdown",
   "metadata": {},
   "source": [
    "更多的[Validation]查看"
   ]
  },
  {
   "cell_type": "markdown",
   "metadata": {},
   "source": [
    "#### pymongo操作"
   ]
  },
  {
   "cell_type": "code",
   "execution_count": 31,
   "metadata": {},
   "outputs": [
    {
     "name": "stdout",
     "output_type": "stream",
     "text": [
      "{'$jsonSchema': {'bsonType': 'object',\n",
      "                 'properties': {'phone': {'bsonType': 'string',\n",
      "                                          'description': 'must be a string and '\n",
      "                                                         'is required'}},\n",
      "                 'required': ['phone']}}\n"
     ]
    },
    {
     "data": {
      "text/plain": [
       "Collection(Database(MongoClient(host=['127.0.0.1:27017'], document_class=dict, tz_aware=False, connect=True), 'test'), 'python1')"
      ]
     },
     "execution_count": 31,
     "metadata": {},
     "output_type": "execute_result"
    }
   ],
   "source": [
    "import pymongo\n",
    "import pprint\n",
    "client = pymongo.MongoClient(\"mongodb://127.0.0.1:27017/\")\n",
    "db = client.test\n",
    "js = {'bsonType': 'object',\n",
    "      'required': ['phone'],\n",
    "      'properties':{'phone':{'bsonType': 'string', 'description': 'must be a string and is required'}}}\n",
    "val = {\"$jsonSchema\": js}\n",
    "pprint.pprint(val)\n",
    "db.create_collection('python1', validator=val)"
   ]
  },
  {
   "cell_type": "markdown",
   "metadata": {},
   "source": [
    "#### 指定排序规则（collation）\n",
    "[collation]允许用户指定一些比较规则，例如大小写(lettercase)和声调符号(accent marks)"
   ]
  },
  {
   "cell_type": "markdown",
   "metadata": {},
   "source": [
    "#### [指定存储引擎]"
   ]
  },
  {
   "cell_type": "markdown",
   "metadata": {},
   "source": [
    "## 文档验证\n",
    "默认情况下，集合中的文档不必保证具有相同的模式（schema）\n",
    "\n",
    "但可以指定[文档验证规则]来强制约束文档的更新和插入操作\n",
    "\n",
    "详情查看[模式验证]"
   ]
  },
  {
   "cell_type": "markdown",
   "metadata": {},
   "source": [
    "## uuid\n",
    "db.getCollectionInfos() 查看"
   ]
  }
 ],
 "metadata": {
  "kernelspec": {
   "display_name": "Python 3",
   "language": "python",
   "name": "python3"
  },
  "language_info": {
   "codemirror_mode": {
    "name": "ipython",
    "version": 3
   },
   "file_extension": ".py",
   "mimetype": "text/x-python",
   "name": "python",
   "nbconvert_exporter": "python",
   "pygments_lexer": "ipython3",
   "version": "3.8.3"
  },
  "toc": {
   "base_numbering": 1,
   "nav_menu": {},
   "number_sections": false,
   "sideBar": true,
   "skip_h1_title": false,
   "title_cell": "Table of Contents",
   "title_sidebar": "Contents",
   "toc_cell": true,
   "toc_position": {
    "height": "calc(100% - 180px)",
    "left": "10px",
    "top": "150px",
    "width": "152.312px"
   },
   "toc_section_display": true,
   "toc_window_display": true
  }
 },
 "nbformat": 4,
 "nbformat_minor": 4
}
