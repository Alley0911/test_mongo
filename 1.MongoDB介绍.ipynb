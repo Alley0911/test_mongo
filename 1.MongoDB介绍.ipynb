{
 "cells": [
  {
   "cell_type": "markdown",
   "metadata": {},
   "source": [
    "# MongoDB介绍"
   ]
  },
  {
   "cell_type": "markdown",
   "metadata": {},
   "source": [
    "MongoDB 4.4的新特性可在[这里](https://docs.mongodb.com/manual/release-notes/4.4/)查询;\n",
    "\n",
    "MongoDB 4.4可在[这里](https://www.mongodb.com/try/download/community)下载"
   ]
  },
  {
   "cell_type": "markdown",
   "metadata": {},
   "source": [
    "MongoDB 4.4是一个文档式数据库，旨在简化应用开发和扩展。该手册介绍了MongoDB的主要概念、查询语言等。该手册也以[HTML tar.gz](https://docs.mongodb.com/master/manual.tar.gz)和[EPUB](https://docs.mongodb.com/master/MongoDB-manual.epub)方式提供。"
   ]
  },
  {
   "cell_type": "markdown",
   "metadata": {},
   "source": [
    "MongoDB提供社区版和专业版两个版本\n",
    "- 社区版是开源和免费的\n",
    "- 专业版需要订阅，可享受全面的MongoDB开发支持服务\n",
    "\n",
    "MonoDB还提供了[Atlas](https://www.mongodb.com/cloud/atlas?tck=docs_server)，一种云服务，无需安装，可直接通过免费的接口使用。\n",
    "该手册介绍了社区版和专业版的特性和功能。"
   ]
  },
  {
   "cell_type": "markdown",
   "metadata": {},
   "source": [
    "## 文档型数据库"
   ]
  },
  {
   "cell_type": "markdown",
   "metadata": {},
   "source": [
    "MongoDB中的一个记录是一个由键值对组成的文档，类似于JSON对象。一些字段的值也可以是文档、数组或者由文档组成的数组。"
   ]
  },
  {
   "cell_type": "markdown",
   "metadata": {},
   "source": [
    "```{\n",
    "    name: \"sue\",\n",
    "    age: 25,\n",
    "    status: \"A\",\n",
    "    groups: [\"news\", \"sports\"]\n",
    "}```"
   ]
  },
  {
   "cell_type": "markdown",
   "metadata": {},
   "source": [
    "使用文档的优势：\n",
    "- 文档可对应许多变成语言中的一种数据类型\n",
    "- 嵌套文档和数组减少了耗时的join操作\n",
    "- 模式灵活"
   ]
  },
  {
   "cell_type": "markdown",
   "metadata": {},
   "source": [
    "### 集合/视图/按需实例化的视图"
   ]
  },
  {
   "cell_type": "markdown",
   "metadata": {},
   "source": [
    "MongoDB将数据存储在集合中，类似于关系型数据的表\n",
    "\n",
    "除了集合，MongoDB还支持：\n",
    "- [只读的视图](#)\n",
    "- [按需实例化的视图]"
   ]
  },
  {
   "cell_type": "markdown",
   "metadata": {},
   "source": [
    "## 关键特性"
   ]
  },
  {
   "cell_type": "markdown",
   "metadata": {},
   "source": [
    "### 高性能\n",
    "MongoDB在数据持久化上具有高性能。\n",
    "- 对嵌入式数据模型的支持减少了数据库系统上的I/O操作\n",
    "- 索引加快了查询速度，*还可以包含嵌套的文档和数组*"
   ]
  },
  {
   "cell_type": "markdown",
   "metadata": {},
   "source": [
    "### 丰富的查询语言\n",
    "MongoDB支持丰富的查询语言和[增改删减操作（CRUD）]\n",
    "- [数据聚合查询]\n",
    "- [文本搜索]和[地理空间查询]"
   ]
  },
  {
   "cell_type": "markdown",
   "metadata": {},
   "source": [
    "### 高可用性\n",
    "MongoDB[副本集（replica set）]，可\n",
    "- 自动故障转移\n",
    "- 数据冗余\n",
    "一个副本集是一组相同数据的MongoDB服务器"
   ]
  },
  {
   "cell_type": "markdown",
   "metadata": {},
   "source": [
    "### 水平可伸缩性\n",
    "该功能时MongoDB的核心功能\n",
    "- 在集群上分布式[切片]存储数据\n",
    "- [zones]"
   ]
  },
  {
   "cell_type": "markdown",
   "metadata": {},
   "source": [
    "### 支持多个存储引擎\n",
    "..."
   ]
  }
 ],
 "metadata": {
  "kernelspec": {
   "display_name": "Python 3",
   "language": "python",
   "name": "python3"
  },
  "language_info": {
   "codemirror_mode": {
    "name": "ipython",
    "version": 3
   },
   "file_extension": ".py",
   "mimetype": "text/x-python",
   "name": "python",
   "nbconvert_exporter": "python",
   "pygments_lexer": "ipython3",
   "version": "3.8.3"
  },
  "toc": {
   "base_numbering": 1,
   "nav_menu": {},
   "number_sections": false,
   "sideBar": true,
   "skip_h1_title": false,
   "title_cell": "Table of Contents",
   "title_sidebar": "Contents",
   "toc_cell": false,
   "toc_position": {},
   "toc_section_display": true,
   "toc_window_display": true
  }
 },
 "nbformat": 4,
 "nbformat_minor": 4
}
