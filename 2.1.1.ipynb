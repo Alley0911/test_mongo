{
 "cells": [
  {
   "cell_type": "markdown",
   "metadata": {},
   "source": [
    "## 地理空间查询算子(Geospatial Query Operators)"
   ]
  },
  {
   "cell_type": "markdown",
   "metadata": {},
   "source": [
    "### GeoJSON Point\n",
    "```\n",
    "# 两个字段别写错，先写经度，再写纬度，-180～180, —90～90\n",
    "location:{\n",
    "    type: \"Point\",\n",
    "    coordinates: [-71.1, 25.2]\n",
    "}\n",
    "```\n",
    "### 坐标对（coordinate pairs）\n",
    "```\n",
    "# 也可是二维的数字对或者嵌套的字典，会自动转换成GeoJSON Point类型\n",
    "loc: [-71.1, 25.2]\n",
    "loc:{ \"longitude\": -71.1, \"latitude\": 25.2}\n",
    "```"
   ]
  },
  {
   "cell_type": "markdown",
   "metadata": {},
   "source": [
    "### 地理空间索引\n",
    "```\n",
    "# loc是GeoJSON Point或者坐标对\n",
    "# 基于球体进行计算\n",
    "db.collection.createIndex({loc: \"2dsphere\"})\n",
    "# 基于二维平面进行计算\n",
    "db.collection.createIndex({loc: \"2d\"})\n",
    "```"
   ]
  },
  {
   "cell_type": "markdown",
   "metadata": {},
   "source": [
    "### 地理空间查询\n",
    "```\n",
    "# 查找以下多边形里面的点，必须是个闭环，且是个闭区间\n",
    "db.places.find(\n",
    "{\n",
    "    loc: {\n",
    "        $geoIntersects:{\n",
    "            $geometry:{\n",
    "                type: \"Polygon\",\n",
    "                coordinates:[\n",
    "                    [ [0, 0], [3, 6], [6, 1], [0, 0] ]\n",
    "                ]\n",
    "            }\n",
    "        }\n",
    "    }\n",
    "}\n",
    ")\n",
    "```"
   ]
  }
 ],
 "metadata": {
  "kernelspec": {
   "display_name": "Python 3",
   "language": "python",
   "name": "python3"
  },
  "language_info": {
   "codemirror_mode": {
    "name": "ipython",
    "version": 3
   },
   "file_extension": ".py",
   "mimetype": "text/x-python",
   "name": "python",
   "nbconvert_exporter": "python",
   "pygments_lexer": "ipython3",
   "version": "3.8.3"
  },
  "toc": {
   "base_numbering": 1,
   "nav_menu": {},
   "number_sections": false,
   "sideBar": true,
   "skip_h1_title": false,
   "title_cell": "Table of Contents",
   "title_sidebar": "Contents",
   "toc_cell": false,
   "toc_position": {},
   "toc_section_display": true,
   "toc_window_display": false
  }
 },
 "nbformat": 4,
 "nbformat_minor": 4
}
