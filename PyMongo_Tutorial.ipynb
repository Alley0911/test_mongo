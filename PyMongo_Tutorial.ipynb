{
 "cells": [
  {
   "cell_type": "markdown",
   "metadata": {},
   "source": [
    "# PyMongo"
   ]
  },
  {
   "cell_type": "markdown",
   "metadata": {},
   "source": [
    "pymongo是使用python操作mongodb的推荐方式\n",
    "## 安装PyMongo\n",
    "conda install -y pymongo"
   ]
  },
  {
   "cell_type": "markdown",
   "metadata": {},
   "source": [
    "## 使用前先开启mongod服务"
   ]
  },
  {
   "cell_type": "markdown",
   "metadata": {},
   "source": [
    "```mongod --dbpath /home/alley/work/Dong/mongo/ --logpath /home/alley/work/Dong/mongo/log```\n",
    "默认了host和port"
   ]
  },
  {
   "cell_type": "markdown",
   "metadata": {},
   "source": [
    "## 连接数据库"
   ]
  },
  {
   "cell_type": "code",
   "execution_count": 5,
   "metadata": {},
   "outputs": [
    {
     "data": {
      "text/plain": [
       "MongoClient(host=['127.0.0.1:27017'], document_class=dict, tz_aware=False, connect=True)"
      ]
     },
     "execution_count": 5,
     "metadata": {},
     "output_type": "execute_result"
    }
   ],
   "source": [
    "import pymongo  \n",
    "# client = pymongo.MongoClient()  # 默认了host和port\n",
    "# client = pymongo.MongoClient('127.0.0.1', 27017)\n",
    "client = pymongo.MongoClient(\"mongodb://127.0.0.1:27017/\")\n",
    "client"
   ]
  },
  {
   "cell_type": "markdown",
   "metadata": {},
   "source": [
    "## 获取一个数据库、集合"
   ]
  },
  {
   "cell_type": "code",
   "execution_count": 6,
   "metadata": {},
   "outputs": [],
   "source": [
    "# 不存在的话会隐式创建，直到有数据写入时会成功显式创建\n",
    "db = client.test  # 数据库\n",
    "# db = client['test']\n",
    "collection = db.test_collection  # 集合"
   ]
  },
  {
   "cell_type": "markdown",
   "metadata": {},
   "source": [
    "## 文档（documents）"
   ]
  },
  {
   "cell_type": "code",
   "execution_count": 74,
   "metadata": {},
   "outputs": [
    {
     "data": {
      "text/plain": [
       "{'author': 'Mike',\n",
       " 'text': 'My first blog post!',\n",
       " 'tags': ['mongodb', 'python', 'pymongo'],\n",
       " 'date': datetime.datetime(2020, 11, 16, 14, 53, 19, 697999)}"
      ]
     },
     "execution_count": 74,
     "metadata": {},
     "output_type": "execute_result"
    }
   ],
   "source": [
    "# 文档以bson格式存储，为二进制的json格式，类似于python中的字典，如下例子\n",
    "import datetime\n",
    "post = {\n",
    "    \"author\": \"Mike\",\n",
    "    \"text\": \"My first blog post!\",\n",
    "    \"tags\": [\"mongodb\", \"python\", \"pymongo\"],\n",
    "    \"date\": datetime.datetime.utcnow()\n",
    "} \n",
    "post  # 文档中可包含python的数据类型，会自动转换成合适的格式"
   ]
  },
  {
   "cell_type": "markdown",
   "metadata": {},
   "source": [
    "## 插入文档"
   ]
  },
  {
   "cell_type": "code",
   "execution_count": 33,
   "metadata": {},
   "outputs": [
    {
     "data": {
      "text/plain": [
       "ObjectId('5fb27896afc3fb34723c3858')"
      ]
     },
     "execution_count": 33,
     "metadata": {},
     "output_type": "execute_result"
    }
   ],
   "source": [
    "# 插入一个文档\n",
    "posts = db.posts  # 隐式创建一个posts的集合\n",
    "# 插入一条文档,会自动创建一个“_id”的key，该值唯一，可手动添加该key\n",
    "post_id = posts.insert_one(post).inserted_id  # 插入的同时获取_id\n",
    "post_id"
   ]
  },
  {
   "cell_type": "code",
   "execution_count": 34,
   "metadata": {},
   "outputs": [
    {
     "data": {
      "text/plain": [
       "['posts']"
      ]
     },
     "execution_count": 34,
     "metadata": {},
     "output_type": "execute_result"
    }
   ],
   "source": [
    "db.list_collection_names()  # 打印所有集合名字"
   ]
  },
  {
   "cell_type": "markdown",
   "metadata": {},
   "source": [
    "## 单一查询"
   ]
  },
  {
   "cell_type": "code",
   "execution_count": 51,
   "metadata": {},
   "outputs": [
    {
     "name": "stdout",
     "output_type": "stream",
     "text": [
      "{'_id': ObjectId('5fb27896afc3fb34723c3858'),\n",
      " 'author': 'Mike',\n",
      " 'date': datetime.datetime(2020, 11, 16, 13, 3, 16, 833000),\n",
      " 'tags': ['mongodb', 'python', 'pymongo'],\n",
      " 'text': 'My first blog post!'}\n"
     ]
    }
   ],
   "source": [
    "import pprint\n",
    "pprint.pprint(posts.find_one())  # 查询第一个"
   ]
  },
  {
   "cell_type": "code",
   "execution_count": 36,
   "metadata": {},
   "outputs": [
    {
     "name": "stdout",
     "output_type": "stream",
     "text": [
      "{'_id': ObjectId('5fb27896afc3fb34723c3858'),\n",
      " 'author': 'Mike',\n",
      " 'date': datetime.datetime(2020, 11, 16, 13, 3, 16, 833000),\n",
      " 'tags': ['mongodb', 'python', 'pymongo'],\n",
      " 'text': 'My first blog post!'}\n"
     ]
    }
   ],
   "source": [
    "pprint.pprint(posts.find_one({\"author\":\"Mike\"}))  # 查询符合条件的第一个"
   ]
  },
  {
   "cell_type": "code",
   "execution_count": 37,
   "metadata": {},
   "outputs": [
    {
     "name": "stdout",
     "output_type": "stream",
     "text": [
      "{'_id': ObjectId('5fb27896afc3fb34723c3858'),\n",
      " 'author': 'Mike',\n",
      " 'date': datetime.datetime(2020, 11, 16, 13, 3, 16, 833000),\n",
      " 'tags': ['mongodb', 'python', 'pymongo'],\n",
      " 'text': 'My first blog post!'}\n"
     ]
    }
   ],
   "source": [
    "pprint.pprint(posts.find_one({\"_id\":post_id}))  # 通过_id查询"
   ]
  },
  {
   "cell_type": "code",
   "execution_count": 39,
   "metadata": {},
   "outputs": [
    {
     "data": {
      "text/plain": [
       "'5fb27896afc3fb34723c3858'"
      ]
     },
     "execution_count": 39,
     "metadata": {},
     "output_type": "execute_result"
    }
   ],
   "source": [
    "post_id_as_str = str(post_id)\n",
    "post_id_as_str"
   ]
  },
  {
   "cell_type": "code",
   "execution_count": 40,
   "metadata": {},
   "outputs": [],
   "source": [
    "posts.find_one({\"_id\": post_id_as_str}) # 查不到，转成str后与之前的不同"
   ]
  },
  {
   "cell_type": "code",
   "execution_count": 43,
   "metadata": {
    "scrolled": true
   },
   "outputs": [
    {
     "name": "stdout",
     "output_type": "stream",
     "text": [
      "{'_id': ObjectId('5fb27896afc3fb34723c3858'),\n",
      " 'author': 'Mike',\n",
      " 'date': datetime.datetime(2020, 11, 16, 13, 3, 16, 833000),\n",
      " 'tags': ['mongodb', 'python', 'pymongo'],\n",
      " 'text': 'My first blog post!'}\n"
     ]
    }
   ],
   "source": [
    "from bson.objectid import ObjectId  # 通过下面的例子可以将str转回来\n",
    "pprint.pprint(posts.find_one({\"_id\": ObjectId(post_id_as_str)}))"
   ]
  },
  {
   "cell_type": "markdown",
   "metadata": {},
   "source": [
    "## 批量插入"
   ]
  },
  {
   "cell_type": "code",
   "execution_count": 45,
   "metadata": {},
   "outputs": [
    {
     "data": {
      "text/plain": [
       "[ObjectId('5fb2819bafc3fb34723c3859'), ObjectId('5fb2819bafc3fb34723c385a')]"
      ]
     },
     "execution_count": 45,
     "metadata": {},
     "output_type": "execute_result"
    }
   ],
   "source": [
    "# python可以用单引号，但mongo shell里不行\n",
    "# 注意前后插入的文档并没有完全相同的key，mongo没有模式限制\n",
    "new_posts = [\n",
    "    {\n",
    "    'author': 'Mike',\n",
    "    'text': 'Another post!',\n",
    "    'tags': ['bulk', 'insert'],\n",
    "    'date': datetime.datetime(2020, 11, 16, 21, 39)\n",
    "    },\n",
    "    {\n",
    "    'author': 'Eliot',\n",
    "    'title': 'MongoDB is fun',\n",
    "    'text': 'easy too',\n",
    "    'date': datetime.datetime(2020, 11, 17, 21, 39)\n",
    "    }\n",
    "]\n",
    "result = posts.insert_many(new_posts)\n",
    "result.inserted_ids  # 注意加了s"
   ]
  },
  {
   "cell_type": "markdown",
   "metadata": {},
   "source": [
    "## 批量查询"
   ]
  },
  {
   "cell_type": "code",
   "execution_count": 83,
   "metadata": {},
   "outputs": [
    {
     "data": {
      "text/plain": [
       "<pymongo.cursor.Cursor at 0x7f7cbfd0d910>"
      ]
     },
     "execution_count": 83,
     "metadata": {},
     "output_type": "execute_result"
    }
   ],
   "source": [
    "cursor = db.posts.find()\n",
    "cursor  # 返回一个cursor（游标可迭代）"
   ]
  },
  {
   "cell_type": "code",
   "execution_count": 84,
   "metadata": {},
   "outputs": [
    {
     "name": "stdout",
     "output_type": "stream",
     "text": [
      "{'_id': ObjectId('5fb27896afc3fb34723c3858'),\n",
      " 'author': 'Mike',\n",
      " 'date': datetime.datetime(2020, 11, 16, 13, 3, 16, 833000),\n",
      " 'tags': ['mongodb', 'python', 'pymongo'],\n",
      " 'text': 'My first blog post!'}\n",
      "{'_id': ObjectId('5fb2819bafc3fb34723c3859'),\n",
      " 'author': 'Mike',\n",
      " 'date': datetime.datetime(2020, 11, 16, 21, 39),\n",
      " 'tags': ['bulk', 'insert'],\n",
      " 'text': 'Another post!'}\n",
      "{'_id': ObjectId('5fb2819bafc3fb34723c385a'),\n",
      " 'author': 'Eliot',\n",
      " 'date': datetime.datetime(2020, 11, 17, 21, 39),\n",
      " 'text': 'easy too',\n",
      " 'title': 'MongoDB is fun'}\n"
     ]
    }
   ],
   "source": [
    "for post in cursor:\n",
    "    pprint.pprint(post)  # 第二次使用游标将无结果"
   ]
  },
  {
   "cell_type": "markdown",
   "metadata": {},
   "source": [
    "## 计数"
   ]
  },
  {
   "cell_type": "code",
   "execution_count": 85,
   "metadata": {},
   "outputs": [
    {
     "data": {
      "text/plain": [
       "3"
      ]
     },
     "execution_count": 85,
     "metadata": {},
     "output_type": "execute_result"
    }
   ],
   "source": [
    "db.posts.count_documents({})  # {}不能省略"
   ]
  },
  {
   "cell_type": "code",
   "execution_count": 86,
   "metadata": {},
   "outputs": [
    {
     "data": {
      "text/plain": [
       "2"
      ]
     },
     "execution_count": 86,
     "metadata": {},
     "output_type": "execute_result"
    }
   ],
   "source": [
    "posts.count_documents({'author':'Mike'})"
   ]
  },
  {
   "cell_type": "markdown",
   "metadata": {},
   "source": [
    "## 范围查询\n",
    "MongoDB支持很多[高级查询](http://www.mongodb.org/display/DOCS/Advanced+Queries)"
   ]
  },
  {
   "cell_type": "code",
   "execution_count": 80,
   "metadata": {},
   "outputs": [
    {
     "name": "stdout",
     "output_type": "stream",
     "text": [
      "{'_id': ObjectId('5fb2819bafc3fb34723c3859'),\n",
      " 'author': 'Mike',\n",
      " 'date': datetime.datetime(2020, 11, 16, 21, 39),\n",
      " 'tags': ['bulk', 'insert'],\n",
      " 'text': 'Another post!'}\n",
      "{'_id': ObjectId('5fb27896afc3fb34723c3858'),\n",
      " 'author': 'Mike',\n",
      " 'date': datetime.datetime(2020, 11, 16, 13, 3, 16, 833000),\n",
      " 'tags': ['mongodb', 'python', 'pymongo'],\n",
      " 'text': 'My first blog post!'}\n"
     ]
    }
   ],
   "source": [
    "d = datetime.datetime(2020, 11, 17, 0)\n",
    "# 查询日期小于d的同时按‘text’字段排序\n",
    "for post in posts.find({\"date\":{'$lt': d}}).sort(\"text\"):\n",
    "    pprint.pprint(post)"
   ]
  },
  {
   "cell_type": "markdown",
   "metadata": {},
   "source": [
    "## [索引（indexing）](https://docs.mongodb.com/manual/indexes/)\n",
    "索引不仅可以加快查询速度，同时可以额外增加查询和存储文档的功能。\n",
    "创建单一索引后，与该索引相同的文档将被拒绝插入"
   ]
  },
  {
   "cell_type": "code",
   "execution_count": 87,
   "metadata": {},
   "outputs": [
    {
     "data": {
      "text/plain": [
       "['_id_', 'user_id_1']"
      ]
     },
     "execution_count": 87,
     "metadata": {},
     "output_type": "execute_result"
    }
   ],
   "source": [
    "result = db.profiles.create_index([('user_id', pymongo.ASCENDING)], unique=True)\n",
    "sorted(list(db.profiles.index_information()))  # 查询索引信息"
   ]
  },
  {
   "cell_type": "code",
   "execution_count": 88,
   "metadata": {},
   "outputs": [],
   "source": [
    "user_profiles = [\n",
    "    {\n",
    "        'user_id': 211, 'name': 'Luke',\n",
    "    },\n",
    "    {\n",
    "        'user_id': 212, 'name': 'Ziltoid'\n",
    "    }\n",
    "]\n",
    "result = db.profiles.insert_many(user_profiles)"
   ]
  },
  {
   "cell_type": "code",
   "execution_count": 90,
   "metadata": {},
   "outputs": [
    {
     "data": {
      "text/plain": [
       "<pymongo.results.InsertOneResult at 0x7f7cbf56c140>"
      ]
     },
     "execution_count": 90,
     "metadata": {},
     "output_type": "execute_result"
    }
   ],
   "source": [
    "new_profile = {'user_id': 213, 'name': 'Drew'}\n",
    "duplicate_profile = {'user_id': 212, 'name': 'Tommy'}\n",
    "result = db.profiles.insert_one(new_profile)\n",
    "result"
   ]
  },
  {
   "cell_type": "markdown",
   "metadata": {},
   "source": [
    "result = db.profiles.insert_one(duplicate_profile) \n",
    "会报错，因为user_id相同了"
   ]
  }
 ],
 "metadata": {
  "kernelspec": {
   "display_name": "Python 3",
   "language": "python",
   "name": "python3"
  },
  "language_info": {
   "codemirror_mode": {
    "name": "ipython",
    "version": 3
   },
   "file_extension": ".py",
   "mimetype": "text/x-python",
   "name": "python",
   "nbconvert_exporter": "python",
   "pygments_lexer": "ipython3",
   "version": "3.8.3"
  }
 },
 "nbformat": 4,
 "nbformat_minor": 4
}
