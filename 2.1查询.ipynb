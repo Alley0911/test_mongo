{
 "cells": [
  {
   "cell_type": "markdown",
   "metadata": {},
   "source": [
    "# 查询（query）和映射（projection）操作符"
   ]
  },
  {
   "cell_type": "markdown",
   "metadata": {},
   "source": [
    "## 查询选择器（query selectors）\n",
    "### 比较型的（comparison）\n",
    "#### $eq\n",
    "```\n",
    "db.inventory.find({qty:{$eq:20}})\n",
    "# 等同于\n",
    "db.inventory.find({qty:20})\n",
    "# 当有嵌套文档时，注意引号\n",
    "db.inventory.find({\"item.name\":{$eq:\"ab\"}})\n",
    "# 匹配数组\n",
    "    # 此时的返回结果对应的数组或完全等于该值或者包含该值\n",
    "# 匹配正则表达式\n",
    "```"
   ]
  },
  {
   "cell_type": "markdown",
   "metadata": {},
   "source": [
    "#### \\\\$gte \\\\$gt  \\\\$lt \\\\$lte  \\\\ne"
   ]
  },
  {
   "cell_type": "markdown",
   "metadata": {},
   "source": [
    "#### \\\\$in\n",
    "```\n",
    "db.inventory.find( { qty: { $in: [ 5, 15 ] } } )\n",
    "# 数组, tags对应的值时数组,其中有元素是\"abc\"或\"school\"\n",
    "{ _id: 1, item: \"abc\", qty: 10, tags: [ \"school\", \"clothing\" ], sale: false }\n",
    "db.inventory.update(\n",
    "    { tags: { $in: [\"abc\", \"school\"] } },\n",
    "    { $set: { scale: true } }\n",
    ")\n",
    "# 正则表达式\n",
    "db.inventory.find( { tags: { $in: [ /^be/, /^st/ ] } } )\n",
    "# 以上查找的文档中的tags，如果是string格式，则其或者时以be开头的或者时以st开头的;如果是数组，则数组中的元素至少有一个是以be开头或者st开头\n",
    "```\n",
    "#### \\\\$nin \n",
    "\\\\$nin是\\\\$in反命题"
   ]
  },
  {
   "cell_type": "markdown",
   "metadata": {},
   "source": [
    "### 逻辑型\n",
    "#### \\\\$and\n",
    "```\n",
    "# 查询price字段存在且不等于1.99\n",
    "db.inventory.find({$and:[{$price:{$ne:1.99}},{price,{$exists: true}}]})\n",
    "# 等价与\n",
    "db.inventory.inf({price:{$ne:1.99, $exists:true}})\n",
    "# 查询（qty小于10或者大于50）且（sale是true或者price小于5）\n",
    "db.inventory.find\n",
    "({\n",
    "    $and:[\n",
    "          {$or:[{qty:{$lt:10}}, {qty:{$gt:50}}],\n",
    "          {$or:[{sale:true},{price:{$lt:5}}]}\n",
    "         ]\n",
    "})          \n",
    "```"
   ]
  },
  {
   "cell_type": "markdown",
   "metadata": {},
   "source": [
    "#### \\\\$not\n",
    "```\n",
    "# 查找price小于等于1.99或者price字段不存在的文档\n",
    "db.inventory.find({price:{$not:{$gt:1.99}}})\n",
    "# 使用正则表达式对象查找itme字段不是以p字母开头\n",
    "db.inventory.find({itme:{$not: /^p.*/}})\n",
    "#使用$regex算子\n",
    "db.inventory.find({item:{$not:{$regx:\"^p.*\"}}})\n",
    "db.inventory.find({item:{$not:{$regx:/^p.*/}}})\n",
    "```\n",
    "**python中的正则表达式使用**\n",
    "\n",
    "```\n",
    "import re\n",
    "for noMatch in db.inventory.find({\"item\":{$not:re.compile(\"^p.*\")}}):\n",
    "    print(noMatch)\n",
    "```    "
   ]
  },
  {
   "cell_type": "markdown",
   "metadata": {},
   "source": [
    "#### $nor\n",
    "其中所有条件都不满足才行\n",
    "```\n",
    "# 查找price不等于1.99的或者price不存在的;或者sale存在且为false的或者sale不存在的\n",
    "db.inventory.find({$nor:[{price:1.99},{sale:true}]})\n",
    "# 查找price和sale都存在且price不等于1.99且sale不为true的\n",
    "db.inventory.find({$nor:[{price:1.99},{price:{$exists:false}},{sale:true},{sale:{$exists:false}}]})\n",
    "```"
   ]
  },
  {
   "cell_type": "markdown",
   "metadata": {},
   "source": [
    "#### \\\\$or\n",
    "```\n",
    "# quantity小于20或price为10\n",
    "db.inventory.find( { $or: [ { quantity: { $lt: 20 } }, { price: 10 } ] } )\n",
    "```\n",
    "*or里面每一个子查询（clause）都需要有索引，这样在进行or时会使用索引扫描（index scan），否则会进行集合扫描(collection scan)*"
   ]
  },
  {
   "cell_type": "markdown",
   "metadata": {},
   "source": [
    "### 元素型（element）"
   ]
  },
  {
   "cell_type": "markdown",
   "metadata": {},
   "source": [
    "#### \\\\$exists\n",
    "```\n",
    "# 查找qty字段存在，且不为5或15的文档\n",
    "db.inventory.find({qty:{$exists:true,$nin:[5,15]}})\n",
    "# 查找b字段不存在的文档\n",
    "db.records.find( { b: { $exists: false } } )\n",
    "```\n",
    "#### \\\\$type\n",
    "```\n",
    "# 查询zipCode字段为string类型，可以是数组，数组里面是string\n",
    "# 2是数字表示，string是代号（alias）表示的BSON数据类型\n",
    "db.addressBook.find( { \"zipCode\" : { $type : 2 } } );\n",
    "db.addressBook.find( { \"zipCode\" : { $type : \"string\" } } );\n",
    "# 或是string或是double**注意类型得用双引号**\n",
    "db.grades.find({\"classAverage\": {$type:[2, 1]}})\n",
    "db.grades.find({\"classAverage\": {$type:[\"string\", \"double\"]}})\n",
    "# 查询readings字段是数组，空数据也算\n",
    "db.SensorReading.find( { \"readings\" : { $type: \"array\" } } )\n",
    "```"
   ]
  },
  {
   "cell_type": "markdown",
   "metadata": {},
   "source": [
    "### Evaluation（计算型？）"
   ]
  },
  {
   "cell_type": "markdown",
   "metadata": {},
   "source": [
    "#### \\\\$expr\n",
    "```\n",
    "# 查找spent的值大于budget的值的文档，**注意符号$**\n",
    "db.monthlyBudget.find({ $expr: { $gt: [ \"$spent\", \"$budget\"]}})\n",
    "```"
   ]
  },
  {
   "cell_type": "markdown",
   "metadata": {},
   "source": [
    "```\n",
    "# 插入所需文档\n",
    "db.supplies.insertMany([\n",
    "   { \"_id\" : 1, \"item\" : \"binder\", \"qty\" : NumberInt(\"100\"), \"price\" : NumberDecimal(\"12\") },\n",
    "   { \"_id\" : 2, \"item\" : \"notebook\", \"qty\" : NumberInt(\"200\"), \"price\" : NumberDecimal(\"8\") },\n",
    "   { \"_id\" : 3, \"item\" : \"pencil\", \"qty\" : NumberInt(\"50\"), \"price\" : NumberDecimal(\"6\") },\n",
    "   { \"_id\" : 4, \"item\" : \"eraser\", \"qty\" : NumberInt(\"150\"), \"price\" : NumberDecimal(\"3\") },\n",
    "   { \"_id\" : 5, \"item\" : \"legal pad\", \"qty\" : NumberInt(\"42\"), \"price\" : NumberDecimal(\"10\") }\n",
    "])\n",
    "# 计算discountedPrice\n",
    "let discountedPrice = {\n",
    "   $cond: {\n",
    "      if: { $gte: [\"$qty\", 100] },\n",
    "      then: { $multiply: [\"$price\", NumberDecimal(\"0.50\")] },\n",
    "      else: { $multiply: [\"$price\", NumberDecimal(\"0.75\")] }\n",
    "   }\n",
    "};\n",
    "# 查询discountedPrice小于5的\n",
    "db.supplies.find( { $expr: { $lt:[ discountedPrice,  NumberDecimal(\"5\") ] } });\n",
    "```"
   ]
  },
  {
   "cell_type": "markdown",
   "metadata": {},
   "source": [
    "#### $jsonSchema\n",
    "**用于文档验证，该集合插入的文档需要满足以下要求才行，否则会插入失败（默认），也可以插入成功，但会提醒。**\n",
    "```\n",
    "db.createCollection(\"students\", {\n",
    "   validator: {\n",
    "      $jsonSchema: {\n",
    "         bsonType: \"object\",\n",
    "         required: [ \"name\", \"year\", \"major\", \"address\" ],\n",
    "         properties: {\n",
    "            name: {\n",
    "               bsonType: \"string\",\n",
    "               description: \"must be a string and is required\"\n",
    "            },\n",
    "            year: {\n",
    "               bsonType: \"int\",\n",
    "               minimum: 2017,\n",
    "               maximum: 3017,\n",
    "               description: \"must be an integer in [ 2017, 3017 ] and is required\"\n",
    "            },\n",
    "            major: {\n",
    "               enum: [ \"Math\", \"English\", \"Computer Science\", \"History\", null ],\n",
    "               description: \"can only be one of the enum values and is required\"\n",
    "            },\n",
    "            gpa: {\n",
    "               bsonType: [ \"double\" ],\n",
    "               description: \"must be a double if the field exists\"\n",
    "            },\n",
    "            address: {\n",
    "               bsonType: \"object\",\n",
    "               required: [ \"city\" ],\n",
    "               properties: {\n",
    "                  street: {\n",
    "                     bsonType: \"string\",\n",
    "                     description: \"must be a string if the field exists\"\n",
    "                  },\n",
    "                  city: {\n",
    "                     bsonType: \"string\",\n",
    "                     \"description\": \"must be a string and is required\"\n",
    "                  }\n",
    "               }\n",
    "            }\n",
    "         }\n",
    "      }\n",
    "   }\n",
    "})\n",
    "```"
   ]
  },
  {
   "cell_type": "markdown",
   "metadata": {},
   "source": [
    "**条件查询**\n",
    "```\n",
    "let myschema = {} # 写好的一个jsonschema\n",
    "# 使用该jsonschema进行查询\n",
    "db.inventory.find({$jsonSchema: myschema})\n",
    "db.inventory.aggregate([{$match:{$jsonSchema: myschema}}])\n",
    "# 查找不符合该jsonshema的然后设置新的字段isvalid为false\n",
    "db.inventory.updateMany({$ nor:[{$jsonSchema:myschema}]},{$set:{ isvalid:false}})\n",
    "```"
   ]
  },
  {
   "cell_type": "markdown",
   "metadata": {},
   "source": [
    "#### $mod\n",
    "```\n",
    "# 查找qty的值除以4之后余0的文档\n",
    "db.inventory.find({qty:{$mod:[4,0]}})\n",
    "```"
   ]
  },
  {
   "cell_type": "markdown",
   "metadata": {},
   "source": [
    "#### $regex\n",
    "```\n",
    "# 两种形式,某些情况下只能用其中的一种\n",
    "{<field>: /pattern/<options>}\n",
    "{<field>: {$regex: /pattern/<options>}}\n",
    "{ <field>: { $regex: /pattern/, $options: '<options>' } }\n",
    "{ <field>: { $regex: 'pattern', $options: '<options>' } }\n",
    "# 在$in里不能使用$regex\n",
    "{name:{$in:[/^acme/i, /^ack/]}} \n",
    "# 查找item不是以p开头的\n",
    "db.inventory.find({item:{$not:{$regex:\"^p.*}}})\n",
    "# 查找name a不区分大小写，cme区分大小写，（?i）的作用域为剩余部分\n",
    "{name :{ $regex: '(?i)a(?-i)cme'}}\n",
    "```"
   ]
  },
  {
   "cell_type": "markdown",
   "metadata": {},
   "source": [
    "#### $text\n",
    "```\n",
    "# 使用前需要由text的index\n",
    "db.articles.createIndex( { subject: \"text\" } )\n",
    "# 查找还有coffee单词的,不分大小写和音调符号\n",
    "db.articles.find({$text: {$search :\"coffee\"}})\n",
    "# 查找包含bake或者coffe或者cake的,有一个就行\n",
    "db.articles.find({$text:{$search:\"coffee bake cake\"}})\n",
    "# 查找包含“coffee shop”整个短语的\n",
    "db.aritiles.find({$text:{$search:\"\\\"coffee shop\\\"\"}})\n",
    "# 查找由coffee但是后面不是跟着shop的\n",
    "db.articles.find({$text:{$search:\"coffee -shop\"}})\n",
    "# 查找包换Coffee的，区分大小写\n",
    "db.articles.find({$text:{$seach:\"Coffee\",$caseSensitive:true}})\n",
    "# $diacriticSensitive:true用于区分音调符号\n",
    "```"
   ]
  }
 ],
 "metadata": {
  "kernelspec": {
   "display_name": "Python 3",
   "language": "python",
   "name": "python3"
  },
  "language_info": {
   "codemirror_mode": {
    "name": "ipython",
    "version": 3
   },
   "file_extension": ".py",
   "mimetype": "text/x-python",
   "name": "python",
   "nbconvert_exporter": "python",
   "pygments_lexer": "ipython3",
   "version": "3.8.3"
  },
  "toc": {
   "base_numbering": 1,
   "nav_menu": {},
   "number_sections": false,
   "sideBar": true,
   "skip_h1_title": false,
   "title_cell": "Table of Contents",
   "title_sidebar": "Contents",
   "toc_cell": false,
   "toc_position": {},
   "toc_section_display": true,
   "toc_window_display": false
  }
 },
 "nbformat": 4,
 "nbformat_minor": 4
}
