{
 "cells": [
  {
   "cell_type": "markdown",
   "metadata": {},
   "source": [
    "# 视图(views)"
   ]
  },
  {
   "cell_type": "markdown",
   "metadata": {},
   "source": [
    "MongoDB视图时可查询的对象，其内容由其他集合或视图上的[聚合管道]定义.MongoDB不会将视图内容持久保存到磁盘中。当客户端[查询]视图时，将按需计算视图的内容。MongoDB可以要求客户端具有查询视图的权限。MongoDB不支持针对视图的写入操作。\n",
    "\n",
    "例如：\n",
    "- 在员工数据的集合中去除[exclude]任何私人或个人信息（PII）创建的视图 。应用程序可以在视图中查询不包含任何PII的员工数据。\n",
    "- 在收集的传感器数据的集合上创建一个视图，将计算的字段和指标相加[add]，这样应用程序就可以使用简单的查找操作来查询数据。\n",
    "- 创建一个联合[joins]两个分别包含库存和历史订单历史集合的视图。应用程序可以查询联接的数据，而无需管理或了解底层的复杂管道。\n",
    "\n",
    "当客户端[查询一个视图]时,MongoDB会将客户端查询追加到基础管道，并将该组合管道的结果返回给客户端。MongoDB可以将[聚合管道优化]应用于组合管道。"
   ]
  },
  {
   "cell_type": "markdown",
   "metadata": {},
   "source": [
    "## 创建视图\n",
    "例子：\n",
    "\n",
    "```\n",
    "db.createView("
   ]
  }
 ],
 "metadata": {
  "kernelspec": {
   "display_name": "Python 3",
   "language": "python",
   "name": "python3"
  },
  "language_info": {
   "codemirror_mode": {
    "name": "ipython",
    "version": 3
   },
   "file_extension": ".py",
   "mimetype": "text/x-python",
   "name": "python",
   "nbconvert_exporter": "python",
   "pygments_lexer": "ipython3",
   "version": "3.8.3"
  },
  "toc": {
   "base_numbering": 1,
   "nav_menu": {},
   "number_sections": false,
   "sideBar": true,
   "skip_h1_title": false,
   "title_cell": "Table of Contents",
   "title_sidebar": "Contents",
   "toc_cell": false,
   "toc_position": {},
   "toc_section_display": true,
   "toc_window_display": true
  }
 },
 "nbformat": 4,
 "nbformat_minor": 4
}
