{
 "cells": [
  {
   "cell_type": "markdown",
   "metadata": {},
   "source": [
    "API接口"
   ]
  },
  {
   "cell_type": "markdown",
   "metadata": {},
   "source": [
    "PyMongo发行版包含3个顶级的包用于与MongoDB交互\n",
    "\n",
    "- [bson](https://pymongo.readthedocs.io/en/stable/api/bson/index.html),用于bson格式\n",
    "- [pymongo](https://pymongo.readthedocs.io/en/stable/api/pymongo/index.html#module-pymongo),是一个全功能驱动程序\n",
    "- [gridfs](https://pymongo.readthedocs.io/en/stable/api/gridfs/index.html),用于处理GridFS存储规范"
   ]
  },
  {
   "cell_type": "code",
   "execution_count": null,
   "metadata": {},
   "outputs": [],
   "source": []
  }
 ],
 "metadata": {
  "kernelspec": {
   "display_name": "Python 3",
   "language": "python",
   "name": "python3"
  },
  "language_info": {
   "codemirror_mode": {
    "name": "ipython",
    "version": 3
   },
   "file_extension": ".py",
   "mimetype": "text/x-python",
   "name": "python",
   "nbconvert_exporter": "python",
   "pygments_lexer": "ipython3",
   "version": "3.8.3"
  }
 },
 "nbformat": 4,
 "nbformat_minor": 4
}
