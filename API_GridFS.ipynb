{
 "cells": [
  {
   "cell_type": "markdown",
   "metadata": {},
   "source": [
    "# [GridFS](https://docs.mongodb.com/manual/core/gridfs/)"
   ]
  },
  {
   "cell_type": "markdown",
   "metadata": {},
   "source": [
    "GridFS用于存储和检索超过BSON文件大小上限16MB的文件\n",
    "\n",
    "GridFS不会将文件存储在单个文档中，而是将文件分为多个快（chunks），并将每个块存储为单独的文档。默认情况下，GridFS块大小为255 kB。也就是说，除最后一个块外，GridFS会将文件划分为255kB的块。类似地，不大于块大小的文件仅具有最后一个实际大小的块，以及一些其他元数据。\n",
    "\n",
    "GridFS使用两个集合存储文件。一个存储文件块，另一个存储元数据。后面GridFS集合部分会详细展开。\n",
    "\n",
    "当以单个文件查询GridFS时，驱动会自动将需要的块组合起来。也可以使用GridFS进行文件的区间查询，比如直接跳到一个视频的中间位置。\n",
    "\n",
    "GridFS还可用于存储读取时不必将整个文件读入内存的数据。"
   ]
  },
  {
   "cell_type": "markdown",
   "metadata": {},
   "source": [
    "## GridFS适用情况"
   ]
  },
  {
   "cell_type": "markdown",
   "metadata": {},
   "source": [
    "大于16MB时\n",
    "\n",
    "在一些情况下，使用GridFS存储大型文件具有更高的效率\n",
    "- 当文件系统限制了某个目录存储文件的个数\n",
    "- 当只想获取大型文件的一部分而不想把整个文件都读入内存\n",
    "- 当需要在多个系统和设备中同步和部署文件以及元数据时"
   ]
  }
 ],
 "metadata": {
  "kernelspec": {
   "display_name": "Python 3",
   "language": "python",
   "name": "python3"
  },
  "language_info": {
   "codemirror_mode": {
    "name": "ipython",
    "version": 3
   },
   "file_extension": ".py",
   "mimetype": "text/x-python",
   "name": "python",
   "nbconvert_exporter": "python",
   "pygments_lexer": "ipython3",
   "version": "3.8.3"
  }
 },
 "nbformat": 4,
 "nbformat_minor": 4
}
